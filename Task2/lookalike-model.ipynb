{
 "cells": [
  {
   "cell_type": "markdown",
   "metadata": {},
   "source": [
    "# Lookalike Model"
   ]
  },
  {
   "cell_type": "markdown",
   "metadata": {},
   "source": [
    "## Similarity Measurement\n",
    "\n",
    "To find the most similar customers, we compute a **similarity score** based on the customer profiles and transaction history. Common approaches to measuring similarity include:\n",
    "\n",
    "- **Cosine Similarity**: This method measures the cosine of the angle between two vectors (in this case, customer profiles). A higher cosine similarity indicates that two customers are more similar.\n",
    "\n",
    "   Formula for Cosine Similarity:\n",
    "   \\[\n",
    "   \\text{Similarity} = \\frac{{\\text{A} \\cdot \\text{B}}}{{\\|\\text{A}\\| \\cdot \\|\\text{B}\\|}}\n",
    "   \\]\n",
    "   Where:\n",
    "   - \\(\\text{A}\\) and \\(\\text{B}\\) are the feature vectors for two customers.\n",
    "   - The numerator is the dot product of the vectors.\n",
    "   - The denominator is the product of the magnitudes of the vectors.\n",
    "\n",
    "- **Euclidean Distance**: Another option is calculating the Euclidean distance between customers' profiles. However, cosine similarity is often preferred for recommendation tasks as it is not sensitive to the magnitude of values (only to the direction).\n",
    "\n",
    "We compute the similarity between a given customer's vector and every other customer's vector using these measures. The result is a matrix where each entry represents the similarity between two customers.\n"
   ]
  },
  {
   "cell_type": "markdown",
   "metadata": {},
   "source": [
    "## Importing libraries"
   ]
  },
  {
   "cell_type": "code",
   "execution_count": 15,
   "metadata": {
    "_cell_guid": "b1076dfc-b9ad-4769-8c92-a6c4dae69d19",
    "_uuid": "8f2839f25d086af736a60e9eeb907d3b93b6e0e5",
    "execution": {
     "iopub.execute_input": "2025-01-27T12:39:02.501474Z",
     "iopub.status.busy": "2025-01-27T12:39:02.501067Z",
     "iopub.status.idle": "2025-01-27T12:39:02.507185Z",
     "shell.execute_reply": "2025-01-27T12:39:02.505831Z",
     "shell.execute_reply.started": "2025-01-27T12:39:02.501447Z"
    },
    "trusted": true
   },
   "outputs": [],
   "source": [
    "import pandas as pd\n",
    "from sklearn.metrics.pairwise import cosine_similarity\n",
    "from sklearn.preprocessing import StandardScaler\n",
    "import numpy as np"
   ]
  },
  {
   "cell_type": "markdown",
   "metadata": {},
   "source": [
    "## Loading Dataset"
   ]
  },
  {
   "cell_type": "code",
   "execution_count": null,
   "metadata": {
    "execution": {
     "iopub.execute_input": "2025-01-27T12:39:03.135044Z",
     "iopub.status.busy": "2025-01-27T12:39:03.134605Z",
     "iopub.status.idle": "2025-01-27T12:39:03.167436Z",
     "shell.execute_reply": "2025-01-27T12:39:03.166326Z",
     "shell.execute_reply.started": "2025-01-27T12:39:03.135014Z"
    },
    "trusted": true
   },
   "outputs": [],
   "source": [
    "\n",
    "# Load the datasets if needed\n",
    "customers_df = pd.read_csv('../Dataset/Customers.csv')\n",
    "products_df = pd.read_csv('../Dataset/Products.csv')\n",
    "transactions_df = pd.read_csv('../Dataset/Transactions.csv')"
   ]
  },
  {
   "cell_type": "code",
   "execution_count": 17,
   "metadata": {
    "execution": {
     "iopub.execute_input": "2025-01-27T12:39:03.743014Z",
     "iopub.status.busy": "2025-01-27T12:39:03.742330Z",
     "iopub.status.idle": "2025-01-27T12:39:03.753864Z",
     "shell.execute_reply": "2025-01-27T12:39:03.752876Z",
     "shell.execute_reply.started": "2025-01-27T12:39:03.742952Z"
    },
    "trusted": true
   },
   "outputs": [],
   "source": [
    "products_df['Category'] = products_df['Category'].astype('category')\n",
    "transactions_df['TransactionDate'] = pd.to_datetime(transactions_df['TransactionDate'])"
   ]
  },
  {
   "cell_type": "markdown",
   "metadata": {},
   "source": [
    "## Merge Datset"
   ]
  },
  {
   "cell_type": "code",
   "execution_count": 18,
   "metadata": {
    "execution": {
     "iopub.execute_input": "2025-01-27T12:39:06.047408Z",
     "iopub.status.busy": "2025-01-27T12:39:06.046988Z",
     "iopub.status.idle": "2025-01-27T12:39:06.062500Z",
     "shell.execute_reply": "2025-01-27T12:39:06.061065Z",
     "shell.execute_reply.started": "2025-01-27T12:39:06.047378Z"
    },
    "trusted": true
   },
   "outputs": [],
   "source": [
    "# Merge the datasets\n",
    "transactions_products = pd.merge(transactions_df, products_df, on='ProductID', how='inner')\n",
    "full_data = pd.merge(transactions_products, customers_df, on='CustomerID', how='inner')"
   ]
  },
  {
   "cell_type": "markdown",
   "metadata": {},
   "source": [
    "## Create Customer-Product Interaction Matrix"
   ]
  },
  {
   "cell_type": "code",
   "execution_count": 19,
   "metadata": {
    "execution": {
     "iopub.execute_input": "2025-01-27T12:39:24.584654Z",
     "iopub.status.busy": "2025-01-27T12:39:24.584235Z",
     "iopub.status.idle": "2025-01-27T12:39:24.606785Z",
     "shell.execute_reply": "2025-01-27T12:39:24.605350Z",
     "shell.execute_reply.started": "2025-01-27T12:39:24.584626Z"
    },
    "trusted": true
   },
   "outputs": [],
   "source": [
    "# Create a Customer-Product matrix (transactions data)\n",
    "customer_product_matrix = full_data.pivot_table(index='CustomerID', columns='ProductID', values='Quantity', aggfunc='sum', fill_value=0)\n",
    "\n",
    "# Scale the matrix for better similarity calculation (optional)\n",
    "scaler = StandardScaler()\n",
    "customer_product_matrix_scaled = scaler.fit_transform(customer_product_matrix)"
   ]
  },
  {
   "cell_type": "markdown",
   "metadata": {},
   "source": [
    "## Calculate Similarity (Collaborative Filtering)"
   ]
  },
  {
   "cell_type": "code",
   "execution_count": 20,
   "metadata": {
    "execution": {
     "iopub.execute_input": "2025-01-27T12:39:25.252022Z",
     "iopub.status.busy": "2025-01-27T12:39:25.251583Z",
     "iopub.status.idle": "2025-01-27T12:39:25.259616Z",
     "shell.execute_reply": "2025-01-27T12:39:25.258096Z",
     "shell.execute_reply.started": "2025-01-27T12:39:25.251993Z"
    },
    "trusted": true
   },
   "outputs": [],
   "source": [
    "# Calculate cosine similarity between customers\n",
    "cosine_sim = cosine_similarity(customer_product_matrix_scaled)\n",
    "cosine_sim_df = pd.DataFrame(cosine_sim, index=customer_product_matrix.index, columns=customer_product_matrix.index)"
   ]
  },
  {
   "cell_type": "markdown",
   "metadata": {},
   "source": [
    "## Calculate Profile-Based Similarity (Content-Based)"
   ]
  },
  {
   "cell_type": "code",
   "execution_count": 21,
   "metadata": {
    "execution": {
     "iopub.execute_input": "2025-01-27T12:39:42.095684Z",
     "iopub.status.busy": "2025-01-27T12:39:42.095215Z",
     "iopub.status.idle": "2025-01-27T12:39:42.110260Z",
     "shell.execute_reply": "2025-01-27T12:39:42.108720Z",
     "shell.execute_reply.started": "2025-01-27T12:39:42.095644Z"
    },
    "trusted": true
   },
   "outputs": [
    {
     "name": "stderr",
     "output_type": "stream",
     "text": [
      "<ipython-input-21-ba7bc6e3d73a>:3: SettingWithCopyWarning: \n",
      "A value is trying to be set on a copy of a slice from a DataFrame.\n",
      "Try using .loc[row_indexer,col_indexer] = value instead\n",
      "\n",
      "See the caveats in the documentation: https://pandas.pydata.org/pandas-docs/stable/user_guide/indexing.html#returning-a-view-versus-a-copy\n",
      "  profile_data['Region'] = profile_data['Region'].astype('category').cat.codes  # Encoding categorical columns\n"
     ]
    }
   ],
   "source": [
    "# Convert categorical columns (e.g., Region) into numerical values\n",
    "profile_data = customers_df[['CustomerID', 'Region']]  # Add more features as needed\n",
    "profile_data['Region'] = profile_data['Region'].astype('category').cat.codes  # Encoding categorical columns\n",
    "\n",
    "# Calculate cosine similarity for customer profile data\n",
    "profile_similarity = cosine_similarity(profile_data[['Region']])\n",
    "\n",
    "# Create a DataFrame for profile similarity\n",
    "profile_sim_df = pd.DataFrame(profile_similarity, index=profile_data['CustomerID'], columns=profile_data['CustomerID'])\n"
   ]
  },
  {
   "cell_type": "markdown",
   "metadata": {},
   "source": [
    "## Combine Both Similarities"
   ]
  },
  {
   "cell_type": "code",
   "execution_count": 22,
   "metadata": {
    "execution": {
     "iopub.execute_input": "2025-01-27T12:41:16.499187Z",
     "iopub.status.busy": "2025-01-27T12:41:16.498738Z",
     "iopub.status.idle": "2025-01-27T12:41:16.514830Z",
     "shell.execute_reply": "2025-01-27T12:41:16.513413Z",
     "shell.execute_reply.started": "2025-01-27T12:41:16.499158Z"
    },
    "trusted": true
   },
   "outputs": [],
   "source": [
    "# Combine both similarity scores (you can give different weights)\n",
    "combined_sim_df = (cosine_sim_df + profile_sim_df) / 2"
   ]
  },
  {
   "cell_type": "markdown",
   "metadata": {},
   "source": [
    "## Generating Recommendations\n",
    "\n",
    "Once the similarity scores are calculated for each customer, we can generate recommendations by selecting the top 3 most similar customers to the input customer.\n",
    "\n",
    "For each customer (from `C0001` to `C0020`), we:\n",
    "- Sort all other customers based on their similarity scores in descending order.\n",
    "- Select the top 3 customers with the highest similarity scores.\n",
    "- We exclude the input customer from the list of similar customers (because a customer is always similar to themselves).\n"
   ]
  },
  {
   "cell_type": "markdown",
   "metadata": {},
   "source": [
    "## Generate Lookalike Recommendations"
   ]
  },
  {
   "cell_type": "code",
   "execution_count": 27,
   "metadata": {
    "execution": {
     "iopub.execute_input": "2025-01-27T12:46:18.019829Z",
     "iopub.status.busy": "2025-01-27T12:46:18.019436Z",
     "iopub.status.idle": "2025-01-27T12:46:18.035240Z",
     "shell.execute_reply": "2025-01-27T12:46:18.033829Z",
     "shell.execute_reply.started": "2025-01-27T12:46:18.019802Z"
    },
    "trusted": true
   },
   "outputs": [
    {
     "name": "stdout",
     "output_type": "stream",
     "text": [
      "Top 3 Lookalikes for each of the top 20 customers saved to 'Lookalike.csv'\n"
     ]
    }
   ],
   "source": [
    "# Create a list of lookalike customers and their similarity scores\n",
    "lookalike_data = []\n",
    "\n",
    "# Loop through the first 20 customers\n",
    "for customer_id in customers_df['CustomerID'][:20]:  # For customers C0001 to C0020\n",
    "    # Get the similarity scores for the current customer (excluding self)\n",
    "    similar_customers = combined_sim_df[customer_id].sort_values(ascending=False)[1:4]  # Exclude self (first entry)\n",
    "    \n",
    "    # Add the top 3 lookalikes and their similarity scores to the lookalike_data list\n",
    "    for similar_customer, score in zip(similar_customers.index, similar_customers.values):\n",
    "        lookalike_data.append({\n",
    "            'CustomerID': customer_id,\n",
    "            'Lookalike_CustomerID': similar_customer,\n",
    "            'Similarity_Score': score\n",
    "        })\n",
    "\n",
    "# Create a DataFrame to save the results\n",
    "lookalike_df = pd.DataFrame(lookalike_data)\n",
    "\n",
    "# Save the results in a CSV file\n",
    "lookalike_df.to_csv('Lookalike.csv', index=False)\n",
    "\n",
    "print(\"Top 3 Lookalikes for each of the top 20 customers saved to 'Lookalike.csv'\")\n"
   ]
  },
  {
   "cell_type": "markdown",
   "metadata": {},
   "source": [
    "## Output: Top 3 Lookalikes\n",
    "\n",
    "For each customer, we return the **top 3 most similar customers**, along with their **similarity scores**. This can be stored in a `Lookalike.csv` file, where each row contains:\n",
    "- `CustomerID`: The ID of the input customer.\n",
    "- `Lookalike_CustomerID`: The ID of the similar customer.\n",
    "- `Similarity_Score`: The similarity score indicating how similar the two customers are."
   ]
  },
  {
   "cell_type": "code",
   "execution_count": 29,
   "metadata": {
    "execution": {
     "iopub.execute_input": "2025-01-27T12:47:50.626535Z",
     "iopub.status.busy": "2025-01-27T12:47:50.626034Z",
     "iopub.status.idle": "2025-01-27T12:47:50.696427Z",
     "shell.execute_reply": "2025-01-27T12:47:50.695296Z",
     "shell.execute_reply.started": "2025-01-27T12:47:50.626503Z"
    },
    "trusted": true
   },
   "outputs": [
    {
     "name": "stdout",
     "output_type": "stream",
     "text": [
      "Lookalikes for Customer C0001:\n",
      "  Lookalike_CustomerID  Similarity_Score\n",
      "0                C0194          0.702464\n",
      "1                C0104          0.687001\n",
      "2                C0020          0.683304\n",
      "\n",
      "Lookalikes for Customer C0002:\n",
      "  Lookalike_CustomerID  Similarity_Score\n",
      "3                C0030          0.202308\n",
      "4                C0091          0.191889\n",
      "5                C0071          0.160079\n",
      "\n",
      "Lookalikes for Customer C0003:\n",
      "  Lookalike_CustomerID  Similarity_Score\n",
      "6                C0181          0.738786\n",
      "7                C0144          0.711900\n",
      "8                C0067          0.671254\n",
      "\n",
      "Lookalikes for Customer C0004:\n",
      "   Lookalike_CustomerID  Similarity_Score\n",
      "9                 C0070          0.675951\n",
      "10                C0132          0.639799\n",
      "11                C0105          0.637891\n",
      "\n",
      "Lookalikes for Customer C0005:\n",
      "   Lookalike_CustomerID  Similarity_Score\n",
      "12                C0096          0.243728\n",
      "13                C0023          0.235126\n",
      "14                C0055          0.191050\n",
      "\n",
      "Lookalikes for Customer C0006:\n",
      "   Lookalike_CustomerID  Similarity_Score\n",
      "15                C0058          0.657082\n",
      "16                C0171          0.632542\n",
      "17                C0126          0.631335\n",
      "\n",
      "Lookalikes for Customer C0007:\n",
      "   Lookalike_CustomerID  Similarity_Score\n",
      "18                C0079          0.308721\n",
      "19                C0118          0.239138\n",
      "20                C0020          0.228308\n",
      "\n",
      "Lookalikes for Customer C0008:\n",
      "   Lookalike_CustomerID  Similarity_Score\n",
      "21                C0144          0.663375\n",
      "22                C0169          0.639442\n",
      "23                C0091          0.630280\n",
      "\n",
      "Lookalikes for Customer C0009:\n",
      "   Lookalike_CustomerID  Similarity_Score\n",
      "24                C0083          0.765421\n",
      "25                C0072          0.729062\n",
      "26                C0058          0.696676\n",
      "\n",
      "Lookalikes for Customer C0010:\n",
      "   Lookalike_CustomerID  Similarity_Score\n",
      "27                C0094          0.757532\n",
      "28                C0034          0.671896\n",
      "29                C0033          0.668099\n",
      "\n",
      "Lookalikes for Customer C0011:\n",
      "   Lookalike_CustomerID  Similarity_Score\n",
      "30                C0135          0.756641\n",
      "31                C0120          0.682595\n",
      "32                C0107          0.648349\n",
      "\n",
      "Lookalikes for Customer C0012:\n",
      "   Lookalike_CustomerID  Similarity_Score\n",
      "33                C0164          0.744129\n",
      "34                C0158          0.687565\n",
      "35                C0066          0.650469\n",
      "\n",
      "Lookalikes for Customer C0013:\n",
      "   Lookalike_CustomerID  Similarity_Score\n",
      "36                C0169          0.725378\n",
      "37                C0099          0.658622\n",
      "38                C0171          0.646376\n",
      "\n",
      "Lookalikes for Customer C0014:\n",
      "   Lookalike_CustomerID  Similarity_Score\n",
      "39                C0058          0.708513\n",
      "40                C0195          0.669564\n",
      "41                C0060          0.623573\n",
      "\n",
      "Lookalikes for Customer C0015:\n",
      "   Lookalike_CustomerID  Similarity_Score\n",
      "42                C0073          0.861559\n",
      "43                C0036          0.799855\n",
      "44                C0059          0.725491\n",
      "\n",
      "Lookalikes for Customer C0016:\n",
      "   Lookalike_CustomerID  Similarity_Score\n",
      "45                C0187          0.817232\n",
      "46                C0064          0.770147\n",
      "47                C0052          0.729165\n",
      "\n",
      "Lookalikes for Customer C0017:\n",
      "   Lookalike_CustomerID  Similarity_Score\n",
      "48                C0071          0.727760\n",
      "49                C0024          0.679378\n",
      "50                C0037          0.677814\n",
      "\n",
      "Lookalikes for Customer C0018:\n",
      "   Lookalike_CustomerID  Similarity_Score\n",
      "51                C0059          0.655950\n",
      "52                C0081          0.649531\n",
      "53                C0087          0.641993\n",
      "\n",
      "Lookalikes for Customer C0019:\n",
      "   Lookalike_CustomerID  Similarity_Score\n",
      "54                C0064          0.698891\n",
      "55                C0024          0.692971\n",
      "56                C0039          0.642447\n",
      "\n",
      "Lookalikes for Customer C0020:\n",
      "   Lookalike_CustomerID  Similarity_Score\n",
      "57                C0026          0.813535\n",
      "58                C0104          0.736233\n",
      "59                C0119          0.692058\n",
      "\n"
     ]
    }
   ],
   "source": [
    "# Check the first few entries for the lookalike DataFrame\n",
    "lookalike_df.head(20)  # This will display the top 20 rows of the dataframe\n",
    "\n",
    "# Alternatively, print lookalikes for each customer\n",
    "for customer_id in lookalike_df['CustomerID'].unique():\n",
    "    print(f\"Lookalikes for Customer {customer_id}:\")\n",
    "    lookalikes_for_customer = lookalike_df[lookalike_df['CustomerID'] == customer_id]\n",
    "    print(lookalikes_for_customer[['Lookalike_CustomerID', 'Similarity_Score']])\n",
    "    print()"
   ]
  },
  {
   "cell_type": "markdown",
   "metadata": {},
   "source": [
    "\n",
    "## Explanation of the Model Development\n",
    "\n",
    "The model was built using the **customer profiles** and **transactional data**. The similarity between customers is calculated based on these attributes. \n",
    "\n",
    "### Chosen Similarity Measure: Cosine Similarity\n",
    "- **Cosine similarity** was chosen as the measure of similarity because it is effective for high-dimensional data, such as customer profiles and transactional behavior, where we care more about the **pattern** of purchases rather than their absolute quantities or values.\n",
    "\n",
    "### Recommendation Process:\n",
    "- The model computes similarity scores for each customer with respect to all other customers.\n",
    "- The top 3 customers with the highest similarity scores are recommended as lookalikes.\n",
    "\n",
    "### Exclusion of Self:\n",
    "- We exclude the input customer from the recommendations, as they would always have the highest similarity to themselves.\n",
    "\n",
    "## Final Model Output\n",
    "\n",
    "The final output for the first 20 customers (from `C0001` to `C0020`) would look something like this:\n",
    "\n"
   ]
  }
 ],
 "metadata": {
  "kaggle": {
   "accelerator": "none",
   "dataSources": [
    {
     "datasetId": 6556228,
     "sourceId": 10592907,
     "sourceType": "datasetVersion"
    }
   ],
   "dockerImageVersionId": 30839,
   "isGpuEnabled": false,
   "isInternetEnabled": true,
   "language": "python",
   "sourceType": "notebook"
  },
  "kernelspec": {
   "display_name": "Python 3",
   "language": "python",
   "name": "python3"
  },
  "language_info": {
   "codemirror_mode": {
    "name": "ipython",
    "version": 3
   },
   "file_extension": ".py",
   "mimetype": "text/x-python",
   "name": "python",
   "nbconvert_exporter": "python",
   "pygments_lexer": "ipython3",
   "version": "3.10.12"
  }
 },
 "nbformat": 4,
 "nbformat_minor": 4
}
